{
 "cells": [
  {
   "cell_type": "markdown",
   "id": "e4c8ede8",
   "metadata": {},
   "source": [
    "## 1.0 Bibliotecas"
   ]
  },
  {
   "cell_type": "code",
   "execution_count": 4,
   "id": "6af484bf",
   "metadata": {},
   "outputs": [],
   "source": [
    "import cv2             # opencv-python\n",
    "import os              # \n",
    "import numpy as np     #\n",
    "import math            #"
   ]
  },
  {
   "cell_type": "code",
   "execution_count": null,
   "id": "b778c5d4",
   "metadata": {},
   "outputs": [],
   "source": [
    "cap = cv2.VideoCapture(0)\n",
    "\n",
    "while(1):\n",
    "    \n",
    "    try: # Um erro ocorre se não encontrar nada na janela\n",
    "        \n",
    "        ret, frame = cap.read()\n",
    "        frame = cv2.flip(frame,1)\n",
    "        kernel = np.ones((3, 3), np.uint8)\n",
    "        \n",
    "        # Define a região de interesse - máscara de análise de objeto\n",
    "        roi = frame[100:300, 100:300] # tamanho da máscara\n",
    "        \n",
    "        cv2.rectangle(frame,(100,100), (300,300), (0,255,0),0) #leitura da máscara\n",
    "        hsv = cv2.cvtColor(roi, cv2.COLOR_BGR2HSV) # Conversão do padrão RGB para HSV\n",
    "        \n",
    "        \n",
    "        \n",
    "    # Definir gama de cor da pele em HSV\n",
    "        lower_skin = np.array([0,20,70], dtype=np.uint8)\n",
    "        upper_skin = np.array([20,255,255], dtype=np.uint8)\n",
    "        \n",
    "    # Extrair imagem do contorno da pele em relação ao fundo do objeto\n",
    "        mask = cv2.inRange(hsv, lower_skin, upper_skin)\n",
    "    \n",
    "    # Dilação na mão para preencher manchas escuras dentro\n",
    "        mask = cv2.dilate(mask, kernel, iteractions = 4)"
   ]
  }
 ],
 "metadata": {
  "kernelspec": {
   "display_name": "Python 3 (ipykernel)",
   "language": "python",
   "name": "python3"
  },
  "language_info": {
   "codemirror_mode": {
    "name": "ipython",
    "version": 3
   },
   "file_extension": ".py",
   "mimetype": "text/x-python",
   "name": "python",
   "nbconvert_exporter": "python",
   "pygments_lexer": "ipython3",
   "version": "3.10.9"
  }
 },
 "nbformat": 4,
 "nbformat_minor": 5
}
