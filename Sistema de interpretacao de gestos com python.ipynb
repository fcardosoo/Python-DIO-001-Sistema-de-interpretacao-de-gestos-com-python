{
 "cells": [
  {
   "cell_type": "markdown",
   "id": "a7c86baa",
   "metadata": {},
   "source": [
    "## 1.0 Bibliotecas"
   ]
  },
  {
   "cell_type": "code",
   "execution_count": 4,
   "id": "e0beef6f",
   "metadata": {},
   "outputs": [],
   "source": [
    "import cv2             # opencv-python\n",
    "import os              # \n",
    "import numpy as np     #\n",
    "import math            #"
   ]
  },
  {
   "cell_type": "code",
   "execution_count": null,
   "id": "e0922bd2",
   "metadata": {},
   "outputs": [],
   "source": [
    "cap = cv2.VideoCapture(0)\n",
    "\n",
    "while(1):\n",
    "    \n",
    "    try: # Um erro ocorre se não encontrar nada na janela\n",
    "        \n",
    "        ret, frame = cap.read()\n",
    "        frame = cv2.flip(frame,1)\n",
    "        kernel = np.ones((3, 3), np.uint8)\n",
    "        \n",
    "    # Define a região de interesse - máscara de análise de objeto\n",
    "        roi = frame[100:300, 100:300] # tamanho da máscara\n",
    "        \n",
    "        cv2.rectangle(frame,(100,100), (300,300), (0,255,0),0) #leitura da máscara\n",
    "        hsv = cv2.cvtColor(roi, cv2.COLOR_BGR2HSV) # Conversão do padrão RGB para HSV\n",
    "            \n",
    "    # Definir gama de cor da pele em HSV\n",
    "        lower_skin = np.array([0,20,70], dtype=np.uint8)\n",
    "        upper_skin = np.array([20,255,255], dtype=np.uint8)\n",
    "        \n",
    "    # Extrair imagem do contorno da pele em relação ao fundo do objeto\n",
    "        mask = cv2.inRange(hsv, lower_skin, upper_skin)\n",
    "    \n",
    "    # Dilação na mão para preencher manchas escuras dentro\n",
    "        mask = cv2.dilate(mask, kernel, iteractions = 4)\n",
    "    \n",
    "    # Preencher mão com blur \"borrar\" na imagem\n",
    "        mask = cv2.GaussianBlur(mask, (5, 5), 100)\n",
    "        \n",
    "    # Encontrando os contornos\n",
    "        contours, hierarchy = cv2.findCountours(mask, cv2.RETR_TREE, cv2.CHAIN_APPROX_SIMPLE)\n",
    "        \n",
    "    # Encontrar o contorno máximo da mão\n",
    "        cnt = max(contours, key= lambda x: cv2.countourArea(x)) # Função para detectar o contorno do objeto binarizado\n",
    "    \n",
    "    # Aproximação do contorno ao objeto\n",
    "        epsilon = 0.0005*cv2.arcLength(cnt, True)\n",
    "        approx = cv2.approxPolyDP(cnt, epsilon, True)\n",
    "    \n",
    "    # Fazer um objeto convexo ao redor da mão\n",
    "        hull = cv2.convexHull(cnt)\n",
    "    \n",
    "    # Definir a área do hull\n",
    "        areahull = cv2.contourArea(hull)\n",
    "        areacnt = cv2.countourArea(cnt)\n",
    "    \n",
    "    # Definir a área do objeto e área da mão\n",
    "        arearatio = ((areahull - areacnt) / areacnt) * 100\n",
    "    \n",
    "    # Encontre os defeitos no objeto convexo em relação a mão\n",
    "        hull = cv2.convexHull(approx, returnPoints = False)\n",
    "        defects = cv2.convexityDefects(approx, hull)\n",
    "        \n",
    "    # 1 - Sem defeitos\n",
    "        l = 0\n",
    "    \n",
    "    # Definindo a região de interesse     linha71\n",
    "        \n",
    "        \n",
    "        \n",
    "        pc = (100, 100)\n",
    "    \n",
    "    # Encontrar o comprimento de todos os lados do triângulo\n",
    "        a = math.sqrt((end[0] - start[0])**2 + (end[1] - start[1])**2)\n",
    "        b = math.sqrt((far[0] - start[0])**2 + (far[1] - start[1])**2)\n",
    "        c = math.sqrt((end[0] - far[0])**2 + (end[1] - far[1])**2)\n",
    "        s = "
   ]
  }
 ],
 "metadata": {
  "kernelspec": {
   "display_name": "Python 3 (ipykernel)",
   "language": "python",
   "name": "python3"
  },
  "language_info": {
   "codemirror_mode": {
    "name": "ipython",
    "version": 3
   },
   "file_extension": ".py",
   "mimetype": "text/x-python",
   "name": "python",
   "nbconvert_exporter": "python",
   "pygments_lexer": "ipython3",
   "version": "3.10.9"
  }
 },
 "nbformat": 4,
 "nbformat_minor": 5
}
